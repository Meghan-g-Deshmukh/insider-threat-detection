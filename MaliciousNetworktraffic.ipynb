import json
import joblib
import numpy as np
import pandas as pd

def process_input(df, label_encoder):
   
    for col in df.columns:
        if df[col].dtype == 'object':
            le = joblib.load(f'label_encoder_{col}.pkl')  # load separate encoders if saved
            df[col] = le.transform(df[col])
        else:
            df[col] = df[col].astype(float)

    model = joblib.load('Malacious_traffic_classifier.pkl')
    pred = model.predict(df)
    if model.params['objective'] == 'binary':
        predicted_class = (pred > 0.5).astype(int)
    else:
        predicted_class = np.argmax(pred, axis=1)

    predicted_label = label_encoder.inverse_transform(predicted_class)

    return pred, predicted_class, predicted_label

def main():
    src_ip = input('Enter src ip:')
    src_port = int(input("Enter src port:"))
    dst_ip = input('Enter dest ip:')
    dst_port = int(input("Enter dest port:"))
    protocol = int(input("Enter the protocol:"))
    l7_proto = int(input("Enter the l7 proto:"))
    in_bytes = int(input("Enter the in bytes:"))
    out_bytes = int(input("Enter the out bytes:"))
    in_pkts = int(input("Enter the in pkts:"))
    out_pkts = int(input("Enter the out pkts:"))
    tcp_flags = int(input("Enter the tcp flags:"))
    flow_duration = int(input("Enter the flow duration:"))

    data = pd.DataFrame({
        'IPV4_SRC_ADDR': [src_ip],
        'L4_SRC_PORT': [src_port],
        'IPV4_DST_ADDR': [dst_ip],
        'L4_DST_PORT': [dst_port],
        'PROTOCOL': [protocol],
        'L7_PROTO': [l7_proto],
        'IN_BYTES': [in_bytes],
        'OUT_BYTES': [out_bytes],
        'IN_PKTS': [in_pkts],
        'OUT_PKTS': [out_pkts],
        'TCP_FLAGS': [tcp_flags],
        'FLOW_DURATION_MILLISECONDS': [flow_duration],
    })

   
    label_encoder = joblib.load('label_encoder.pkl')

    for col in ['IPV4_SRC_ADDR', 'IPV4_DST_ADDR']:
        le = LabelEncoder()
        le.fit(data[col])
        data[col] = le.transform(data[col])

    
    model = joblib.load('Malacious_traffic_classifier.pkl')
    y_pred = model.predict(data)
    predicted_class = np.argmax(y_pred, axis=1)
    predicted_label = label_encoder.inverse_transform(predicted_class)

    output_dict = {
        "input": {
            "IPV4_SRC_ADDR": src_ip,
            "L4_SRC_PORT": src_port,
            "IPV4_DST_ADDR": dst_ip,
            "L4_DST_PORT": dst_port,
            "PROTOCOL": protocol,
            "L7_PROTO": l7_proto,
            "IN_BYTES": in_bytes,
            "OUT_BYTES": out_bytes,
            "IN_PKTS": in_pkts,
            "OUT_PKTS": out_pkts,
            "TCP_FLAGS": tcp_flags,
            "FLOW_DURATION_MILLISECONDS": flow_duration
        },
        "prediction": {
            "predicted_label": predicted_label[0],
            "prediction_probabilities": y_pred[0].tolist()
        }
    }

    
    with open('prediction_output.json', 'w') as json_file:
        json.dump(output_dict, json_file, indent=4)

    print("Prediction saved to prediction_output.json")
    print(json.dumps(output_dict, indent=4))

if __name__ == "__main__":
    main()
